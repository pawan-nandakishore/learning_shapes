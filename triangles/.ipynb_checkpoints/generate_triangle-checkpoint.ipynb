{
 "cells": [
  {
   "cell_type": "code",
   "execution_count": 163,
   "metadata": {
    "collapsed": true
   },
   "outputs": [],
   "source": [
    "import numpy as np \n",
    "import matplotlib.pyplot as plt\n",
    "import sys\n",
    "import math\n",
    "import scipy as sp\n",
    "from PIL import Image, ImageDraw\n",
    "\n",
    "def rotate_point(origin, point, angle):\n",
    "    \"\"\"\n",
    "    Rotate a point counterclockwise by a given angle around a given origin.\n",
    "\n",
    "    The angle should be given in radians.\n",
    "    \"\"\"\n",
    "    ox, oy = origin\n",
    "    px, py = point\n",
    "\n",
    "    qx = ox + math.cos(angle) * (px - ox) - math.sin(angle) * (py - oy)\n",
    "    qy = oy + math.sin(angle) * (px - ox) + math.cos(angle) * (py - oy)\n",
    "\n",
    "    return qx, qy\n",
    "\n",
    "def dist_btw_pts(list_of_pts ): \n",
    "\n",
    "    distance_between_pts1 = np.sqrt(np.sum(np.square(list_of_pts[0,:] -  list_of_pts[1,:])))  \n",
    "    distance_between_pts2 = np.sqrt(np.sum(np.square(list_of_pts[1,:] -  list_of_pts[2,:])))  \n",
    "    distance_between_pts3 = np.sqrt(np.sum(np.square(list_of_pts[0,:] -  list_of_pts[2,:])))  \n",
    "    dist_list = [distance_between_pts1,distance_between_pts2,distance_between_pts3]\n",
    "    return dist_list\n",
    "\n",
    "def draw_triangle(list_of_points) :\n",
    "    nx=100 \n",
    "    ny  = 100 \n",
    "    poly  = list(map(tuple,list_of_points))\n",
    "    img = Image.new('L', [nx, ny], 0 )\n",
    "    ImageDraw.Draw(img).polygon(poly, outline=1, fill=  0)\n",
    "    mask = np.array(img)\n",
    "#     print(mask)\n",
    "#     plt.imshow(mask)\n",
    "#     plt.axis('off')\n",
    "#     plt.show()\n",
    "    return mask\n",
    "\n",
    "def get_base_triangle(scale):\n",
    "    center =[50,50]\n",
    "    \n",
    "    distx = scale*15\n",
    "    disty  =scale*15\n",
    "\n",
    "    pt1 =[ center[0]-distx/2, center[1]-disty/2]\n",
    "    pt2 = [ center[0]+distx/2, center[1]-disty/2]\n",
    "    pt3 =[ center[0], center[1]+disty/2]\n",
    "    list_of_points= [pt1,pt2, pt3 ]\n",
    "    return list_of_points\n"
   ]
  },
  {
   "cell_type": "code",
   "execution_count": 164,
   "metadata": {
    "collapsed": true
   },
   "outputs": [],
   "source": [
    "angles = np.random.uniform(low=0.0, high=6.27, size=(10,))\n",
    "scales = np.random.uniform(low=0.5, high=3.0, size=(10,))\n"
   ]
  },
  {
   "cell_type": "code",
   "execution_count": 165,
   "metadata": {},
   "outputs": [],
   "source": [
    "for i in range(0,10): \n",
    "    scale_value = scales[i]\n",
    "    triangle_points = get_base_triangle(scale_value)\n",
    "    triangle_points = np.array(triangle_points)\n",
    "    all_rotated_points = [ rotate_point(center,triangle_points[x,:], angles[i]) for x in range(0,3)]    \n",
    "    mask  = draw_triangle(all_rotated_points)\n",
    "    plt.imshow(mask)\n",
    "    plt.axis('off')\n",
    "    plt.imsave('images/'+ str(i)+'.png', mask)\n",
    "    "
   ]
  },
  {
   "cell_type": "code",
   "execution_count": 166,
   "metadata": {
    "collapsed": true
   },
   "outputs": [],
   "source": [
    "np.savetxt('angles', angles)\n",
    "np.savetxt('scales', scales)"
   ]
  }
 ],
 "metadata": {
  "kernelspec": {
   "display_name": "Python 3",
   "language": "python",
   "name": "python3"
  },
  "language_info": {
   "codemirror_mode": {
    "name": "ipython",
    "version": 3
   },
   "file_extension": ".py",
   "mimetype": "text/x-python",
   "name": "python",
   "nbconvert_exporter": "python",
   "pygments_lexer": "ipython3",
   "version": "3.6.1"
  }
 },
 "nbformat": 4,
 "nbformat_minor": 2
}
