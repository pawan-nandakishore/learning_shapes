{
 "cells": [
  {
   "cell_type": "code",
   "execution_count": 1,
   "metadata": {
    "collapsed": true
   },
   "outputs": [],
   "source": [
    "import numpy as np \n",
    "import matplotlib.pyplot as plt\n",
    "import sys\n",
    "import math\n",
    "import scipy as sp\n",
    "from PIL import Image, ImageDraw\n",
    "import tensorflow as tf \n",
    "import os\n",
    "import random \n",
    "folder_loc = '/media/pawan/0B6F079E0B6F079E/PYTHON_SCRIPTS/my_libs/'\n",
    "sys.path.append(os.path.abspath(os.path.join(os.path.dirname(folder_loc),os.path.pardir)))\n",
    "\n",
    "import my_libs.deep_learning_fns as dp"
   ]
  },
  {
   "cell_type": "code",
   "execution_count": 2,
   "metadata": {
    "collapsed": true
   },
   "outputs": [],
   "source": [
    "images_loc = 'images/'\n",
    "images_list = os.listdir(images_loc)\n",
    "train_size = 4000\n",
    "test_size = 100\n",
    "images_train = images_list[0:train_size]\n",
    "images_test= images_list[train_size:train_size+test_size]\n",
    "\n",
    "\n"
   ]
  },
  {
   "cell_type": "code",
   "execution_count": 3,
   "metadata": {},
   "outputs": [
    {
     "data": {
      "text/plain": [
       "(4000, 50, 50, 1)"
      ]
     },
     "execution_count": 3,
     "metadata": {},
     "output_type": "execute_result"
    }
   ],
   "source": [
    "images = []\n",
    "\n",
    "for i in range(0,train_size):\n",
    "    image = plt.imread(images_loc+str(i)+'.png')\n",
    "    image = np.array(image)\n",
    "    image = image/np.mean(image)\n",
    "    image = image[:,:,0]\n",
    "    \n",
    "    images.append(image)\n",
    "    \n",
    "    \n",
    "images = np.array(images)\n",
    "images = images.reshape(images.shape[0], images.shape[1], images.shape[1],1)\n",
    "images.shape\n"
   ]
  },
  {
   "cell_type": "code",
   "execution_count": 4,
   "metadata": {},
   "outputs": [
    {
     "data": {
      "text/plain": [
       "(100, 50, 50, 1)"
      ]
     },
     "execution_count": 4,
     "metadata": {},
     "output_type": "execute_result"
    }
   ],
   "source": [
    "images_test =[]\n",
    "for i in range(train_size,train_size+test_size):\n",
    "    image = plt.imread(images_loc+str(i)+'.png')\n",
    "    image = np.array(image)/np.mean(image)\n",
    "    image = image[:,:,0]\n",
    "    \n",
    "    images_test.append(image)\n",
    "    \n",
    "    \n",
    "images_test = np.array(images_test)\n",
    "images_test = images_test.reshape(images_test.shape[0], images_test.shape[1], images_test.shape[1],1)\n",
    "images_test.shape\n"
   ]
  },
  {
   "cell_type": "code",
   "execution_count": 5,
   "metadata": {},
   "outputs": [
    {
     "data": {
      "text/plain": [
       "(4000, 1)"
      ]
     },
     "execution_count": 5,
     "metadata": {},
     "output_type": "execute_result"
    }
   ],
   "source": [
    "angles = np.loadtxt('angles')\n",
    "scales = np.loadtxt('scales')\n",
    "\n",
    "train_angles = angles[0:train_size]\n",
    "test_angles = angles[train_size:train_size+test_size]\n",
    "\n",
    "train_scales = scales[0:train_size]\n",
    "test_scales = scales[train_size: train_size+test_size]\n",
    "\n",
    "# train_y = np.array([list(train_angles), list(train_scales)])\n",
    "train_y = np.array([list(train_angles)])\n",
    "train_y = train_y.reshape(train_y.shape[1], train_y.shape[0])\n",
    "\n",
    "\n",
    "train_y.shape"
   ]
  },
  {
   "cell_type": "code",
   "execution_count": 6,
   "metadata": {},
   "outputs": [
    {
     "data": {
      "text/plain": [
       "(100, 1)"
      ]
     },
     "execution_count": 6,
     "metadata": {},
     "output_type": "execute_result"
    }
   ],
   "source": [
    "test_y = np.array([list(test_angles)])\n",
    "test_y = test_y.reshape(test_y.shape[1], test_y.shape[0])\n",
    "test_y.shape"
   ]
  },
  {
   "cell_type": "code",
   "execution_count": 7,
   "metadata": {
    "collapsed": true
   },
   "outputs": [],
   "source": [
    "img_size = 50\n",
    "img_flat  = img_size*img_size \n",
    " \n",
    "\n",
    "full_conn1 = 128 \n",
    "full_conn2 = 32\n",
    "full_connFinal = 1"
   ]
  },
  {
   "cell_type": "code",
   "execution_count": 8,
   "metadata": {
    "collapsed": true
   },
   "outputs": [],
   "source": [
    "x = tf.placeholder(tf.float32, shape=[None, img_flat])\n",
    "x_image = tf.reshape(x, [-1,img_size,img_size,1])\n",
    "y = tf.placeholder(tf.float32, shape=[None, 1])\n"
   ]
  },
  {
   "cell_type": "code",
   "execution_count": 9,
   "metadata": {
    "collapsed": true
   },
   "outputs": [],
   "source": [
    "\n",
    "num_channels= 1 \n",
    "\n",
    "num_filters_1 = 16 \n",
    "filter_size_1 = 5 \n",
    "\n",
    "num_filters_2 = 32 \n",
    "filter_size_2 = 5 \n",
    "\n",
    "num_filters_3 = 64\n",
    "filter_size_3 = 5 \n",
    "\n",
    "num_filters_4 = 128\n",
    "filter_size_4 = 5 \n",
    "\n",
    "\n"
   ]
  },
  {
   "cell_type": "markdown",
   "metadata": {
    "collapsed": true
   },
   "source": [
    "## Convolution layers "
   ]
  },
  {
   "cell_type": "code",
   "execution_count": 10,
   "metadata": {},
   "outputs": [
    {
     "data": {
      "text/plain": [
       "<tf.Tensor 'Relu_3:0' shape=(?, 4, 4, 128) dtype=float32>"
      ]
     },
     "execution_count": 10,
     "metadata": {},
     "output_type": "execute_result"
    }
   ],
   "source": [
    "layer_conv_1,weights = dp.conv2d(input=x_image,\n",
    "                              filter_size=filter_size_1,\n",
    "                              num_channels=num_channels,\n",
    "                              num_filters=num_filters_1,\n",
    "                              use_pool=True)\n",
    "\n",
    "layer_conv_2,weights_2 = dp.conv2d(input=layer_conv_1,\n",
    "                              filter_size=filter_size_1,\n",
    "                              num_channels=num_filters_1,\n",
    "                              num_filters=num_filters_2,\n",
    "                              use_pool=True)\n",
    "\n",
    "layer_conv_3,weights_3 = dp.conv2d(input=layer_conv_2,\n",
    "                              filter_size=filter_size_1,\n",
    "                              num_channels=num_filters_2,\n",
    "                              num_filters=num_filters_3,\n",
    "                              use_pool=True)\n",
    "\n",
    "\n",
    "layer_conv_4,weights_4 = dp.conv2d(input=layer_conv_3,\n",
    "                              filter_size=filter_size_2,\n",
    "                              num_channels=num_filters_3,\n",
    "                              num_filters=num_filters_4,\n",
    "                              use_pool=True)\n",
    "\n",
    "\n",
    "# layer_conv_5,weights_5 = dp.conv2d(input=layer_conv_4,\n",
    "#                               filter_size=filter_size_2,\n",
    "#                               num_channels=num_filters_3,\n",
    "#                               num_filters=num_filters_3,\n",
    "#                               use_pool=False)\n",
    "\n",
    "\n",
    "\n",
    "# layer_conv_6,weights_6 = dp.conv2d(input=layer_conv_5,\n",
    "#                               filter_size=filter_size_2,\n",
    "#                               num_channels=num_filters_3,\n",
    "#                               num_filters=num_filters_3,\n",
    "#                               use_pool=False)\n",
    "\n",
    "# layer_conv_7,weights_7 = dp.conv2d(input=layer_conv_6,\n",
    "#                               filter_size=filter_size_2,\n",
    "#                               num_channels=num_filters_3,\n",
    "#                               num_filters=num_filters_4,\n",
    "#                               use_pool=True)\n",
    "\n",
    "\n",
    "\n",
    "# layer_conv_7\n",
    "layer_conv_4"
   ]
  },
  {
   "cell_type": "markdown",
   "metadata": {
    "collapsed": true
   },
   "source": [
    "## Fully connected layers "
   ]
  },
  {
   "cell_type": "code",
   "execution_count": 11,
   "metadata": {},
   "outputs": [
    {
     "data": {
      "text/plain": [
       "<tf.Tensor 'Relu_4:0' shape=(?, 1) dtype=float32>"
      ]
     },
     "execution_count": 11,
     "metadata": {},
     "output_type": "execute_result"
    }
   ],
   "source": [
    "flat_1, num_features_f =  dp.flatten_layer(layer_conv_4)\n",
    "full_conn_2 = dp.conn_layer(flat_1,num_features_f, full_conn1,relu=False)\n",
    "full_conn_2 =   tf.nn.dropout(full_conn_2, 0.6)\n",
    "full_conn_3 = dp.conn_layer(full_conn_2,full_conn1, full_conn2,relu=False)\n",
    "full_conn_3 =   tf.nn.dropout(full_conn_3, 0.6)\n",
    "full_conn_result = dp.conn_layer(full_conn_3,full_conn2,full_connFinal, relu=True)\n",
    "full_conn_result"
   ]
  },
  {
   "cell_type": "code",
   "execution_count": 12,
   "metadata": {
    "collapsed": true
   },
   "outputs": [],
   "source": [
    "learning_rate = 0.5\n",
    "\n",
    "cost_function =(tf.reduce_sum(tf.square(full_conn_result-y)))/train_size\n",
    "optimizer = tf.train.AdadeltaOptimizer(learning_rate).minimize(cost_function)\n"
   ]
  },
  {
   "cell_type": "code",
   "execution_count": 13,
   "metadata": {
    "collapsed": true
   },
   "outputs": [],
   "source": [
    "def get_batch(batch_size):\n",
    "\n",
    "    images_list =list(images)\n",
    "    train_y_list =list(train_y)\n",
    "\n",
    "    range_list= range(0,train_size)\n",
    "    batch = random.sample(range_list,batch_size)\n",
    "    \n",
    "    images_batch = images[batch]\n",
    "    train_y_batch = train_y[batch]\n",
    "\n",
    "    return images_batch, train_y_batch\n",
    "\n",
    "# images_batch, train_y_batch = get_batch(20)\n",
    "# images_batch.shape\n",
    "# train_y_batch.shape"
   ]
  },
  {
   "cell_type": "code",
   "execution_count": 14,
   "metadata": {
    "collapsed": true
   },
   "outputs": [],
   "source": [
    "init = tf.global_variables_initializer()\n"
   ]
  },
  {
   "cell_type": "code",
   "execution_count": 15,
   "metadata": {
    "collapsed": true
   },
   "outputs": [],
   "source": [
    "sess= tf.Session()\n",
    "sess.run(init)"
   ]
  },
  {
   "cell_type": "code",
   "execution_count": 16,
   "metadata": {
    "collapsed": true
   },
   "outputs": [],
   "source": [
    "batch_size=  64 \n",
    "\n",
    "total_num_images = train_size\n",
    "total_runs = int(total_num_images/batch_size)\n"
   ]
  },
  {
   "cell_type": "code",
   "execution_count": 17,
   "metadata": {
    "scrolled": true
   },
   "outputs": [
    {
     "name": "stdout",
     "output_type": "stream",
     "text": [
      "Epoch: 0 End of Epoch cost value : 3.17937\n",
      "Epoch: 1 End of Epoch cost value : 2.99853\n",
      "Epoch: 2 End of Epoch cost value : 3.33301\n",
      "Epoch: 3 End of Epoch cost value : 1.70351\n",
      "Epoch: 4 End of Epoch cost value : 1.5219\n",
      "Epoch: 5 End of Epoch cost value : 0.845215\n",
      "Epoch: 6 End of Epoch cost value : 0.782558\n",
      "Epoch: 7 End of Epoch cost value : 0.574718\n",
      "Epoch: 8 End of Epoch cost value : 0.581252\n",
      "Epoch: 9 End of Epoch cost value : 0.563589\n",
      "Epoch: 10 End of Epoch cost value : 0.462936\n",
      "Epoch: 11 End of Epoch cost value : 0.396753\n",
      "Epoch: 12 End of Epoch cost value : 0.359993\n",
      "Epoch: 13 End of Epoch cost value : 0.286622\n",
      "Epoch: 14 End of Epoch cost value : 0.258897\n",
      "Epoch: 15 End of Epoch cost value : 0.279776\n",
      "Epoch: 16 End of Epoch cost value : 0.245065\n",
      "Epoch: 17 End of Epoch cost value : 0.29538\n",
      "Epoch: 18 End of Epoch cost value : 0.354614\n",
      "Epoch: 19 End of Epoch cost value : 0.172191\n"
     ]
    }
   ],
   "source": [
    "epochs= 20\n",
    "for epoch in range(0,epochs):\n",
    "    \n",
    "    for i in range(0,total_runs): \n",
    "        images_batch, train_y_batch = get_batch(batch_size)\n",
    "        feed_dict_train = {x_image:images_batch,y:train_y_batch}\n",
    "        sess.run(optimizer,feed_dict = feed_dict_train)\n",
    "        cost_value = sess.run(cost_function, feed_dict = feed_dict_train)\n",
    "\n",
    "#         if(i%20 == 0 ):\n",
    "#             print(\"batch number:\", i)\n",
    "#             print(\"cost value :\", cost_value)\n",
    "    \n",
    "    feed_dict_train = {x_image:images,y:train_y}\n",
    "    cost_value = sess.run(cost_function, feed_dict = feed_dict_train)\n",
    "    print(\"Epoch:\", epoch, \"End of Epoch cost value :\", cost_value)\n",
    "         "
   ]
  },
  {
   "cell_type": "code",
   "execution_count": 18,
   "metadata": {
    "collapsed": true
   },
   "outputs": [],
   "source": [
    "\n",
    "feed_dict_test  = {x_image:images_test}\n",
    "test_values = sess.run(full_conn_result,feed_dict = feed_dict_test)\n",
    "diff_values = np.abs(test_values-test_y)\n",
    "mean_value = np.mean(diff_values)\n"
   ]
  },
  {
   "cell_type": "code",
   "execution_count": 19,
   "metadata": {},
   "outputs": [
    {
     "data": {
      "text/plain": [
       "0.2312760233092771"
      ]
     },
     "execution_count": 19,
     "metadata": {},
     "output_type": "execute_result"
    }
   ],
   "source": [
    "mean_value"
   ]
  },
  {
   "cell_type": "code",
   "execution_count": null,
   "metadata": {
    "collapsed": true
   },
   "outputs": [],
   "source": []
  }
 ],
 "metadata": {
  "kernelspec": {
   "display_name": "Python 3",
   "language": "python",
   "name": "python3"
  },
  "language_info": {
   "codemirror_mode": {
    "name": "ipython",
    "version": 3
   },
   "file_extension": ".py",
   "mimetype": "text/x-python",
   "name": "python",
   "nbconvert_exporter": "python",
   "pygments_lexer": "ipython3",
   "version": "3.6.1"
  }
 },
 "nbformat": 4,
 "nbformat_minor": 2
}
