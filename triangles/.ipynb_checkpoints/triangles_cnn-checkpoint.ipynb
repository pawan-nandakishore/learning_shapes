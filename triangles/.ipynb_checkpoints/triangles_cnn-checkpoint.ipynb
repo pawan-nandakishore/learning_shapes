{
 "cells": [
  {
   "cell_type": "markdown",
   "metadata": {},
   "source": [
    "   # Learning shapes"
   ]
  },
  {
   "cell_type": "markdown",
   "metadata": {},
   "source": [
    "\n"
   ]
  },
  {
   "cell_type": "markdown",
   "metadata": {},
   "source": [
    "How do you know an apple is an apple ? Is it the color of the apple that\n",
    "determines its identity, or its texture, or shape ? In reality, it will be a combi-\n",
    "nation of many factors, including your own personal experience that determines\n",
    "your ability to identify an object. However, a computer does not have the lux-\n",
    "ury of using previous experience as a method of identifying an object. It must\n",
    "make decision based on a subset of features presented to it in order to decide\n",
    "whether a given object is an apple or not.\n",
    "\n",
    "So a neural network is limited by the features presented to it right? What\n",
    "are these features ? Well we mentioned some of them already- shape, color, tex-\n",
    "ture, maybe we can also add things like size, weight, maybe we can get people to\n",
    "taste it and tell the computer how it tastes on a scale of 1 to 10, sweet to sour?\n",
    "Now we can ask the question, will all these features help equally in deciding\n",
    "what is an apple. Well are all apples created equal ? Clearly that would not be\n",
    "true, some apples maybe a little larger, some slightly smaller, some really red,\n",
    "some may have a color gradient based on how ripe they are. Clearly we can\n",
    "make a hierarchy of features with the most important one on the top.\n",
    "Rather than taking that route, we shall make an educated guess, we shall\n",
    "say that its not the color or size or texture but the shape of the apple that\n",
    "is most relevant in identifying it. The argument is that, while other features\n",
    "of an apple might change, it’s the shape that remains somewhat similar. So if\n",
    "we want to teach a neural network to identify apples, perhaps we can start by\n",
    "teaching it about shapes.\n",
    "\n",
    "This will be goal of this series of articles I,e. to understand what and how\n",
    "a neural network learning about shapes. Rather than using images of apples, I\n",
    "am going to use something much more simple- I am going to use a dataset of\n",
    "triangles that I generate for this purpose. First, we are going to teach neural\n",
    "network how to read the angle of each of the triangles in the dataset. Then, we\n",
    "can look ”inside” the network to see what the network is learning.\n",
    "What is so special about triangles that we have chosen them over any other\n",
    "shape? Well the triangle is the simplest of all the polygons that can exist in\n",
    "Euclidean space. You can approximate can shape by breaking it into a bunch\n",
    "of triangles. Hence to keep things as simple as possible we deal with triangles.\n",
    "Later on we can start looking at more complex shapes and ask the question how\n",
    "is a neural network breaking down a shape ? Or is it even doing something like\n",
    "that ?\n",
    "\n",
    "Another question we can ask is why just look at orientation of the triangles?\n",
    "Well you can also look at triangles of different scales or triangles with curved\n",
    "edges or even say hyperbolic triangles, but then again we want to keep things\n",
    "simple. We add complexity to the problem as we proceed.\n",
    "\n",
    "The neural network we use for this purpose is a convolutional neural network\n",
    "followed by a few dense layers which yield a single output. We minimize the\n",
    "output using an L2 loss using which we can find the value of angle for a triangle.\n",
    "\n",
    "Below is a small image showing the network architecture that I have used.\n",
    "\n",
    "\n",
    "Note, to run this code you may need a gpu based on how large you want your batch size. The original code was run using a GTX 960M with 4GB RAM "
   ]
  },
  {
   "cell_type": "code",
   "execution_count": 1,
   "metadata": {
    "collapsed": true
   },
   "outputs": [],
   "source": [
    "import numpy as np \n",
    "import matplotlib.pyplot as plt\n",
    "import sys\n",
    "import math\n",
    "import scipy as sp\n",
    "from PIL import Image, ImageDraw\n",
    "import tensorflow as tf \n",
    "import os\n",
    "import random \n",
    "folder_loc = '/media/pawan/0B6F079E0B6F079E/PYTHON_SCRIPTS/my_libs/'\n",
    "sys.path.append(os.path.abspath(os.path.join(os.path.dirname(folder_loc),os.path.pardir)))\n",
    "\n",
    "import my_libs.deep_learning_fns as dp\n"
   ]
  },
  {
   "cell_type": "markdown",
   "metadata": {},
   "source": [
    "We assign the number of training images and test images "
   ]
  },
  {
   "cell_type": "code",
   "execution_count": 2,
   "metadata": {
    "collapsed": true
   },
   "outputs": [],
   "source": [
    "images_loc = 'images/'\n",
    "images_list = os.listdir(images_loc)\n",
    "\n",
    "train_size = 4000\n",
    "test_size = 100\n",
    "images_train = images_list[0:train_size]\n",
    "images_test= images_list[train_size:train_size+test_size]\n",
    "\n"
   ]
  },
  {
   "cell_type": "markdown",
   "metadata": {},
   "source": [
    "In this part of the code we read each image and store it in the images array, we then display a 3 by 3 plot of randomly selected images just to show how the triangles look like "
   ]
  },
  {
   "cell_type": "code",
   "execution_count": 3,
   "metadata": {
    "collapsed": false
   },
   "outputs": [
    {
     "data": {
      "image/png": "[encoded data removed]",
      "text/plain": [
       "<matplotlib.figure.Figure at 0x7f8f96d14668>"
      ]
     },
     "metadata": {},
     "output_type": "display_data"
    },
    {
     "data": {
      "text/plain": [
       "(4000, 28, 28, 1)"
      ]
     },
     "execution_count": 3,
     "metadata": {},
     "output_type": "execute_result"
    }
   ],
   "source": [
    "images = []\n",
    "\n",
    "for i in range(0,train_size):\n",
    "    image = plt.imread(images_loc+str(i)+'.png') # read 0 to train_size images from the folder images\n",
    "    image = np.array(image)                        # convert the image to a numpy array \n",
    "    image = image/np.mean(image)                # rescale the image with the mean value of the image\n",
    "    image = image[:,:,0]                            # use the first channel of the image \n",
    "    \n",
    "    images.append(image)                           \n",
    "    \n",
    "    \n",
    "images = np.array(images)                             \n",
    "images_list2 = list(images)\n",
    " \n",
    "n_sqr = 3                                                 # choose the size of grid to display the images \n",
    "sample_images  = random.sample(images_list2,n_sqr**2)         # choose num of images to display \n",
    "\n",
    "f, arr = plt.subplots(n_sqr,n_sqr, cmap='gray', figsize=(7,7))                          # code for subplotting\n",
    "\n",
    "img_indx = 0 \n",
    "for i in range(0,n_sqr): \n",
    "    for j in range(0,n_sqr):\n",
    "        arr[i, j].imshow(sample_images[img_indx] )\n",
    "        img_indx +=1 \n",
    "\n",
    "plt.show()    \n",
    "\n",
    "\n",
    "images = images.reshape(images.shape[0], images.shape[1], images.shape[1],1)  # reshape the training images to have  \n",
    "images.shape                                                                  # a shape of [num_images, height, width, num_channels]\n",
    "\n"
   ]
  },
  {
   "cell_type": "markdown",
   "metadata": {},
   "source": [
    "Similar to the cell above, we read in the test data set "
   ]
  },
  {
   "cell_type": "code",
   "execution_count": 4,
   "metadata": {
    "collapsed": false
   },
   "outputs": [
    {
     "data": {
      "text/plain": [
       "(100, 28, 28, 1)"
      ]
     },
     "execution_count": 4,
     "metadata": {},
     "output_type": "execute_result"
    }
   ],
   "source": [
    "images_test =[]\n",
    "for i in range(train_size,train_size+test_size):  \n",
    "    image = plt.imread(images_loc+str(i)+'.png')   # read images \n",
    "    image = np.array(image)/np.mean(image)         # scale the image by the mean\n",
    "    image = image[:,:,0]                                 # select the first channel from the image\n",
    "    \n",
    "    images_test.append(image)\n",
    "    \n",
    "    \n",
    "images_test = np.array(images_test)                         \n",
    "images_test = images_test.reshape(images_test.shape[0], images_test.shape[1], images_test.shape[1],1) \n",
    "images_test.shape\n"
   ]
  },
  {
   "cell_type": "markdown",
   "metadata": {},
   "source": [
    "Here, I read in all the input labels. The input labels in our case is the angle of each triangle. We also read in the test angles so that when we run the model on the test set we can calcuate the error between the predicted value and the true values "
   ]
  },
  {
   "cell_type": "code",
   "execution_count": 5,
   "metadata": {
    "collapsed": false
   },
   "outputs": [
    {
     "data": {
      "text/plain": [
       "(4000, 1)"
      ]
     },
     "execution_count": 5,
     "metadata": {},
     "output_type": "execute_result"
    }
   ],
   "source": [
    "angles = np.loadtxt('angles')             # load all the angles information \n",
    "\n",
    "\n",
    "train_angles = angles[0:train_size]                       \n",
    "test_angles = angles[train_size:train_size+test_size]\n",
    "\n",
    "\n",
    "train_y = np.array([list(train_angles)])        \n",
    "train_y = train_y.reshape(train_y.shape[1], train_y.shape[0])\n",
    "\n",
    "\n",
    "train_y.shape"
   ]
  },
  {
   "cell_type": "code",
   "execution_count": 6,
   "metadata": {
    "collapsed": false
   },
   "outputs": [
    {
     "data": {
      "text/plain": [
       "(100, 1)"
      ]
     },
     "execution_count": 6,
     "metadata": {},
     "output_type": "execute_result"
    }
   ],
   "source": [
    "test_y = np.array([list(test_angles)])                   \n",
    "test_y = test_y.reshape(test_y.shape[1], test_y.shape[0])\n",
    "test_y.shape"
   ]
  },
  {
   "cell_type": "markdown",
   "metadata": {},
   "source": [
    "We set the image size and the number of nodes for the fully connected layers. The final fully connected layer has just one node, this gives the value of the angle for a triangle "
   ]
  },
  {
   "cell_type": "code",
   "execution_count": 7,
   "metadata": {
    "collapsed": true
   },
   "outputs": [],
   "source": [
    "img_size = 28\n",
    "img_flat  = img_size*img_size \n",
    " \n",
    "\n",
    "full_conn1 = 128 \n",
    "full_conn2 = 32\n",
    "full_connFinal = 1"
   ]
  },
  {
   "cell_type": "markdown",
   "metadata": {},
   "source": [
    "More assigment of values, we set the number of filters for each of the convolutional layers, we also set the filter size. A good excercise would be to see how the results will change with filter size "
   ]
  },
  {
   "cell_type": "code",
   "execution_count": 8,
   "metadata": {
    "collapsed": true
   },
   "outputs": [],
   "source": [
    "\n",
    "num_channels= 1 \n",
    "\n",
    "num_filters_1 = 32 \n",
    "filter_size_1 = 5 \n",
    "\n",
    "num_filters_2 = 64\n",
    "filter_size_2 = 5 \n",
    "\n",
    "num_filters_3 = 128\n",
    "filter_size_3 = 5 \n",
    "\n",
    "# num_filters_4 = 128\n",
    "# filter_size_4 = 5 \n",
    "\n"
   ]
  },
  {
   "cell_type": "markdown",
   "metadata": {},
   "source": [
    "Here x_image holds the training dataset and y holds the angles which will be used to train the network "
   ]
  },
  {
   "cell_type": "code",
   "execution_count": 9,
   "metadata": {
    "collapsed": true
   },
   "outputs": [],
   "source": [
    "x = tf.placeholder(tf.float32, shape=[None, img_flat])        \n",
    "x_image = tf.reshape(x, [-1,img_size,img_size,1])               \n",
    "y = tf.placeholder(tf.float32, shape=[None, 1])\n"
   ]
  },
  {
   "cell_type": "markdown",
   "metadata": {},
   "source": [
    "Below we declare all the convolutional layers, the code for all the convolutional layers is given in the file deep_learning_fns.py which is contained within this folder. The code for the convolutional layers is written in such a way that max pooling is inbuilt in the definition of function dp.conv2d. You can turn off the max pooling by setting the flag use_pool= false "
   ]
  },
  {
   "cell_type": "markdown",
   "metadata": {
    "collapsed": true
   },
   "source": [
    "## Convolution layers "
   ]
  },
  {
   "cell_type": "code",
   "execution_count": 10,
   "metadata": {
    "collapsed": false
   },
   "outputs": [
    {
     "data": {
      "text/plain": [
       "<tf.Tensor 'Relu_2:0' shape=(?, 4, 4, 128) dtype=float32>"
      ]
     },
     "execution_count": 10,
     "metadata": {},
     "output_type": "execute_result"
    }
   ],
   "source": [
    "layer_conv_1,weights = dp.conv2d(input=x_image,\n",
    "                              filter_size=filter_size_1,\n",
    "                              num_channels=num_channels, \n",
    "                              num_filters=num_filters_1,\n",
    "                              use_pool=True)\n",
    "\n",
    "layer_conv_2,weights_2 = dp.conv2d(input=layer_conv_1, \n",
    "                              filter_size=filter_size_1,\n",
    "                              num_channels=num_filters_1,\n",
    "                              num_filters=num_filters_2,\n",
    "                              use_pool=True)\n",
    "\n",
    "layer_conv_3,weights_3 = dp.conv2d(input=layer_conv_2,\n",
    "                              filter_size=filter_size_1,\n",
    "                              num_channels=num_filters_2,\n",
    "                              num_filters=num_filters_3,\n",
    "                              use_pool=True)\n",
    "\n",
    "\n",
    "# layer_conv_4,weights_4 = dp.conv2d(input=layer_conv_3,            # you can add an extra layer to see how it affect\n",
    "#                               filter_size=filter_size_2,          # the results \n",
    "#                               num_channels=num_filters_3,\n",
    "#                               num_filters=num_filters_4,\n",
    "#                               use_pool=True)\n",
    "\n",
    "\n",
    "\n",
    "layer_conv_3"
   ]
  },
  {
   "cell_type": "markdown",
   "metadata": {},
   "source": [
    "The first line flattens the convolutional layer. This rolls our the convolutional layer as a single M X 1 vector. After that we have three fully connected layers"
   ]
  },
  {
   "cell_type": "markdown",
   "metadata": {
    "collapsed": true
   },
   "source": [
    "## Fully connected layers "
   ]
  },
  {
   "cell_type": "code",
   "execution_count": 11,
   "metadata": {
    "collapsed": false
   },
   "outputs": [
    {
     "data": {
      "text/plain": [
       "<tf.Tensor 'Relu_3:0' shape=(?, 1) dtype=float32>"
      ]
     },
     "execution_count": 11,
     "metadata": {},
     "output_type": "execute_result"
    }
   ],
   "source": [
    "flat_1, num_features_f =  dp.flatten_layer(layer_conv_3)                      \n",
    "full_conn_2 = dp.conn_layer(flat_1,num_features_f, full_conn1,relu=False)\n",
    "full_conn_3 = dp.conn_layer(full_conn_2,full_conn1, full_conn2,relu=False)\n",
    "full_conn_result = dp.conn_layer(full_conn_3,full_conn2,full_connFinal, relu=True)        # in the last layer, I use\n",
    "full_conn_result                                                                          # a relu activation"
   ]
  },
  {
   "cell_type": "markdown",
   "metadata": {},
   "source": [
    "The result of the fully connected layers is fed into the cost function which essentially calculates the L2 loss. I played around with the learning rate and set it to 0.5, another good intuiton would be to actually see how the final result varies with the learning rate. I use an adadelta optimizer here since it slows down as it converges to a global minimum. A lovely article on what is a good optimizer to choose is a blog post by sebastian Ruder - \n",
    "http://ruder.io/optimizing-gradient-descent/index.html check it out ! "
   ]
  },
  {
   "cell_type": "code",
   "execution_count": 12,
   "metadata": {
    "collapsed": true
   },
   "outputs": [],
   "source": [
    "learning_rate = 0.6\n",
    "\n",
    "cost_function =(tf.reduce_sum(tf.square(full_conn_result-y)))/train_size           # L2 loss defined  \n",
    "optimizer = tf.train.AdadeltaOptimizer(learning_rate).minimize(cost_function)\n"
   ]
  },
  {
   "cell_type": "markdown",
   "metadata": {},
   "source": [
    "The function below generates the batches that are fed into the model, I set the batch size and the function randomly selects  n= batch_size number of images for training  "
   ]
  },
  {
   "cell_type": "code",
   "execution_count": 13,
   "metadata": {
    "collapsed": true
   },
   "outputs": [],
   "source": [
    "def get_batch(batch_size):\n",
    "\n",
    "    images_list =list(images)                          \n",
    "    train_y_list =list(train_y)\n",
    "\n",
    "    range_list= range(0,train_size)                                 # get a list of indices for the training set\n",
    "    batch = random.sample(range_list,batch_size)                    # sample batch_size number of indices              \n",
    "    images_batch = images[batch]                                    # use the indicies to get a batch of images \n",
    "    train_y_batch = train_y[batch]                                  # use the indicies to get a the y values for images batch\n",
    "\n",
    "    return images_batch, train_y_batch\n",
    "\n"
   ]
  },
  {
   "cell_type": "markdown",
   "metadata": {},
   "source": [
    "Initializing the model"
   ]
  },
  {
   "cell_type": "code",
   "execution_count": 14,
   "metadata": {
    "collapsed": true
   },
   "outputs": [],
   "source": [
    "init = tf.global_variables_initializer()         # variable to initialize the weights and other values  \n"
   ]
  },
  {
   "cell_type": "markdown",
   "metadata": {},
   "source": [
    "Start the session run "
   ]
  },
  {
   "cell_type": "code",
   "execution_count": 15,
   "metadata": {
    "collapsed": true
   },
   "outputs": [],
   "source": [
    "sess= tf.Session(config=tf.ConfigProto(log_device_placement=True))            # Start the session \n",
    "sess.run(init)                                                 # initalize the session "
   ]
  },
  {
   "cell_type": "markdown",
   "metadata": {},
   "source": [
    "I have arbitrarily selected the batch size to be 64, you can change it/ play around with it to see how it affects the final outcome. The total runs tells you how many times you must loop over the dataset to sample all the training examples for a given batch size. So for example you have 4000 training images and a batch size of 64, then you must run over the dataset atleast 62 times in order to go through 4000 training images. There is ofcourse the point that, all the training images may not be sampled since we are randomly sampling "
   ]
  },
  {
   "cell_type": "code",
   "execution_count": 16,
   "metadata": {
    "collapsed": true
   },
   "outputs": [],
   "source": [
    "batch_size=  64  \n",
    "\n",
    "total_num_images = train_size                                 \n",
    "total_runs = int(total_num_images/batch_size)\n"
   ]
  },
  {
   "cell_type": "markdown",
   "metadata": {},
   "source": [
    "This is where the model is trained, I set the number of epochs to 50. Each epoch is one full run through the dataset, i.e in the earlier case of 4000 images with a batch size of 64, one epoch is going to be a loop running 62 times where images_batches will be set of 64 images randomly pulled from the training dataset. At the end of each epoch, the model is trained over the whole dataset before starting the next epoch. The epoch number and the cost at the end of each epoch are displayed. As the network starts learning, the cost starts decreasing "
   ]
  },
  {
   "cell_type": "code",
   "execution_count": 17,
   "metadata": {
    "collapsed": false,
    "scrolled": true
   },
   "outputs": [
    {
     "name": "stdout",
     "output_type": "stream",
     "text": [
      "Epoch: 0 End of Epoch cost value : 2.89357\n",
      "Epoch: 5 End of Epoch cost value : 0.471552\n",
      "Epoch: 10 End of Epoch cost value : 0.0276744\n",
      "Epoch: 15 End of Epoch cost value : 0.00900997\n",
      "Epoch: 20 End of Epoch cost value : 0.00361779\n",
      "Epoch: 25 End of Epoch cost value : 0.0145429\n",
      "Epoch: 30 End of Epoch cost value : 0.0523948\n",
      "Epoch: 35 End of Epoch cost value : 0.00238147\n",
      "Epoch: 40 End of Epoch cost value : 0.0239338\n",
      "Epoch: 45 End of Epoch cost value : 0.00561256\n"
     ]
    }
   ],
   "source": [
    "epochs=50\n",
    "for epoch in range(0,epochs):\n",
    "    \n",
    "    for i in range(0,total_runs): \n",
    "        images_batch, train_y_batch = get_batch(batch_size)              # get the images and angles batch\n",
    "        feed_dict_train = {x_image:images_batch,y:train_y_batch}        \n",
    "        sess.run(optimizer,feed_dict = feed_dict_train)                   # feed batch into the optimizer \n",
    "        cost_value = sess.run(cost_function, feed_dict = feed_dict_train)           # get the cost function so we can print it \n",
    "\n",
    "    \n",
    "    feed_dict_train = {x_image:images,y:train_y}                   # this part gives the cost over the whole training dataset \n",
    "    cost_value = sess.run(cost_function, feed_dict = feed_dict_train)\n",
    "    \n",
    "    if(epoch%5 ==0): \n",
    "        \n",
    "        print(\"Epoch:\", epoch, \"End of Epoch cost value :\", cost_value)         # print the cost and the epoch number every 5 epochs\n",
    "         "
   ]
  },
  {
   "cell_type": "markdown",
   "metadata": {},
   "source": [
    "Here I feed the test dataset to our trained model and get the predicted angles which are stored in the array test_values. The test_values are then subtracted from the test_y values essentially we are doing \n",
    "\n",
    "*latex math stuff* \n"
   ]
  },
  {
   "cell_type": "code",
   "execution_count": 18,
   "metadata": {
    "collapsed": true
   },
   "outputs": [],
   "source": [
    "\n",
    "feed_dict_test  = {x_image:images_test}                           \n",
    "test_values = sess.run(full_conn_result,feed_dict = feed_dict_test)\n",
    "diff_values = np.abs(test_values-test_y)\n",
    "variation_from_mean = np.mean(diff_values)\n"
   ]
  },
  {
   "cell_type": "code",
   "execution_count": 113,
   "metadata": {
    "collapsed": false
   },
   "outputs": [
    {
     "data": {
      "image/png": "[encoded data removed]",
      "text/plain": [
       "<matplotlib.figure.Figure at 0x7f8efe48d320>"
      ]
     },
     "metadata": {},
     "output_type": "display_data"
    }
   ],
   "source": [
    "\n",
    " \n",
    "n_sqr = 3            \n",
    "list_of_indices = range(0,len(images_test))                    # list of indices for the test images\n",
    "random_indices = random.sample(list_of_indices,n_sqr**2)       # randomly select n_sqr squared indices for plotting\n",
    "test_image_list =list(images_test)                             # convert test images to a list\n",
    "test_image_list = [test_image_list[x] for x in random_indices] # select a subset of test images based on randomly selected list of indices \n",
    "sample_test_y = test_y[random_indices]                         # select true values for the subset of test images  \n",
    "sample_test_values =test_values[random_indices]                # select predicted values for subset of test images\n",
    "\n",
    "f, arr = plt.subplots(n_sqr,n_sqr, figsize = (8,8))                          # code for subplotting\n",
    "\n",
    "\n",
    "img_indx = 0 \n",
    "for i in range(0,n_sqr): \n",
    "    for j in range(0,n_sqr):\n",
    "        plot_image = sample_images[img_indx]\n",
    "        plot_image = plot_image.reshape([plot_image.shape[0],plot_image.shape[1] ])\n",
    "        arr[i, j].imshow(plot_image, cmap='gray')\n",
    "        \n",
    "        string_val = round(sample_test_y[img_indx][0],2)       # round true value to two decimal places for a given image          \n",
    "        string_val2 = round(sample_test_values[img_indx][0],2) # round predicted value to two decimal places\n",
    "        string_val = 'True: ' +str(string_val)+ '\\n' + 'Pred: ' +str(string_val2)   # convert to string and combine \n",
    "        arr[i, j].set_title(string_val,fontsize = '17')          # plot true value and predicted value as titles to each of the triangle images\n",
    "        img_indx +=1                   # increment image_indx value\n",
    "        \n",
    "    \n",
    "plt.tight_layout()                    # ensure that no text overlaps in the subplot\n",
    "plt.show()\n",
    "\n"
   ]
  },
  {
   "cell_type": "markdown",
   "metadata": {},
   "source": [
    "Output the variance. We want to be able to reduce the variance as much as possible. Note that in this context the variance may not be the best measure of how well the network is learning, but I chose this since it is a simple and intuitive "
   ]
  },
  {
   "cell_type": "code",
   "execution_count": 19,
   "metadata": {
    "collapsed": false
   },
   "outputs": [
    {
     "name": "stdout",
     "output_type": "stream",
     "text": [
      "0.046057476678\n"
     ]
    }
   ],
   "source": [
    "print(variation_from_mean)"
   ]
  },
  {
   "cell_type": "markdown",
   "metadata": {
    "collapsed": true
   },
   "source": [
    "So our error is approximately 0.05 radians. Thats an error of 1.3 degrees. It can be improved by running it for many more epochs or changing the number of training example. \n",
    "\n",
    "It is also worth while to look at the distribution of angles over the traning examples. Below we plot histogram of angles where we look at ten degree intervals"
   ]
  },
  {
   "cell_type": "code",
   "execution_count": 135,
   "metadata": {
    "collapsed": false
   },
   "outputs": [
    {
     "data": {
      "image/png": "[encoded data removed]",
      "text/plain": [
       "<matplotlib.figure.Figure at 0x7f8efe604518>"
      ]
     },
     "metadata": {},
     "output_type": "display_data"
    },
    {
     "name": "stdout",
     "output_type": "stream",
     "text": [
      "Number of examples per bin : 111.111111111\n"
     ]
    }
   ],
   "source": [
    "count_values = plt.hist(train_angles, bins =36)\n",
    "plt.xlabel('Angle (radians)', fontsize = '20')\n",
    "plt.ylabel('Count',fontsize = '20')\n",
    "plt.show()\n",
    "print('Number of examples per bin :', np.mean(count_values[0]))"
   ]
  },
  {
   "cell_type": "markdown",
   "metadata": {},
   "source": [
    " So we are essentially working withe 11 examples per degree. So some interesting questions to ask would be, is this much data enough ? How will the error change as we increase the number of training examples ? \n",
    " \n",
    " Furthermore wee can also start looking at ways to visualize feature maps and the filter of the network. Start peering into what is going on inside the convnet to understand what part of the shape that each filter is learning. More on that in upcoming posts! "
   ]
  },
  {
   "cell_type": "code",
   "execution_count": null,
   "metadata": {
    "collapsed": false
   },
   "outputs": [],
   "source": []
  },
  {
   "cell_type": "code",
   "execution_count": null,
   "metadata": {
    "collapsed": true
   },
   "outputs": [],
   "source": []
  }
 ],
 "metadata": {
  "kernelspec": {
   "display_name": "Python 3",
   "language": "python",
   "name": "python3"
  },
  "language_info": {
   "codemirror_mode": {
    "name": "ipython",
    "version": 3
   },
   "file_extension": ".py",
   "mimetype": "text/x-python",
   "name": "python",
   "nbconvert_exporter": "python",
   "pygments_lexer": "ipython3",
   "version": "3.5.2"
  }
 },
 "nbformat": 4,
 "nbformat_minor": 2
}
